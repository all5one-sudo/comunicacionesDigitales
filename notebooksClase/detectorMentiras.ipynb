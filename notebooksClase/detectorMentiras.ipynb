{
 "cells": [
  {
   "attachments": {},
   "cell_type": "markdown",
   "metadata": {},
   "source": [
    "# Test de Hipótesis (Detector de mentiras)"
   ]
  },
  {
   "attachments": {},
   "cell_type": "markdown",
   "metadata": {},
   "source": [
    "## Consigna\n",
    "\n",
    "Considere que hay una población de individuos (A) en donde el 70% dicen la verdad.\n",
    "Si no tenemos otra información que la anterior, la probabilidad de que un individuo\n",
    "seleccionado al azar diga la verdad es igual a 0.7. Esta probabilidad se conoce con el nombre de probabilidad a priori.\n",
    "\n",
    "Considere ahora que cuando un individuo dice una mentira, su pulso cardíaco se acelera y la densidad de probabilidad del la variable aleatoria que mide las pulsaciones tiene una distribución exponencial con parámetro $\\beta=0.01$. Por otro lado la distribución cuando dicen la verdad es también exponencial pero con parámentro $\\alpha =0.1$\n",
    "\n",
    "Obtenga los histogramas de las pulsasiones cardíacas para los individuos de la población (A) que dicen la verdad y que mienten\n",
    "¿Cual es la probabilidad de que un individuo seleccionado al azar diga la verdad cuando tiene XX  pulsasiones cardíacas? Esta probabilidad se conoce como probabilidad a posteriori?\n",
    "\n",
    "¿El conocer las pulsasiones en que porcentaje mejora la probabilidad de deterctar que un individuo miente o dice la verdad?"
   ]
  },
  {
   "attachments": {},
   "cell_type": "markdown",
   "metadata": {},
   "source": [
    "## Resolución\n",
    "\n",
    "Comienzo importando los paquetes de Python necesarios."
   ]
  },
  {
   "cell_type": "code",
   "execution_count": 1,
   "metadata": {},
   "outputs": [],
   "source": [
    "import numpy as np \n",
    "import pandas as pd\n",
    "from matplotlib import pyplot as plt "
   ]
  },
  {
   "attachments": {},
   "cell_type": "markdown",
   "metadata": {},
   "source": [
    "Comienzo definiendo los parámetros conocidos."
   ]
  },
  {
   "cell_type": "code",
   "execution_count": 2,
   "metadata": {},
   "outputs": [],
   "source": [
    "beta = 0.01\n",
    "lie = np.random.exponential(1/beta,100000)\n",
    "alpha = 0.1\n",
    "truth = np.random.exponential(1/alpha,100000)"
   ]
  },
  {
   "attachments": {},
   "cell_type": "markdown",
   "metadata": {},
   "source": [
    "Se obtienen entonces, los siguientes histogramas:"
   ]
  },
  {
   "cell_type": "code",
   "execution_count": 3,
   "metadata": {},
   "outputs": [
    {
     "data": {
      "text/plain": [
       "Text(0.5, 1.0, 'Histograma de las variables aleatorias exponenciales')"
      ]
     },
     "execution_count": 3,
     "metadata": {},
     "output_type": "execute_result"
    },
    {
     "data": {
      "image/png": "[encoded data removed]",
      "text/plain": [
       "<Figure size 640x480 with 1 Axes>"
      ]
     },
     "metadata": {},
     "output_type": "display_data"
    }
   ],
   "source": [
    "plt.hist(lie,bins=1000,alpha=0.5,label='Mentirosos')\n",
    "plt.hist(truth,bins=1000,alpha=0.5,label='No mentirosos')\n",
    "plt.legend(loc='best')\n",
    "plt.title('Histograma de las variables aleatorias exponenciales')"
   ]
  },
  {
   "attachments": {},
   "cell_type": "markdown",
   "metadata": {},
   "source": [
    "### Probabilidad a posteriori\n",
    "\n",
    "Según [Wikipedia](https://es.wikipedia.org/wiki/Probabilidad_a_posteriori), la probabilidad a posteriori, conocida también como *probabilidad condicional inversa*, de un evento aleatorio, es la probabilidad condicional que es asignada luego de que la evidencia es tomada en cuenta.\n",
    "\n",
    "*\"Teniendo la creencia a priori de que la función de distribución de probabilidad es $p(\\theta)$ y de que una observación $X$ con la verosimilitud $p(X|\\theta)$, la probabilidad condicional inversa es definida como $p(\\theta |X)\\propto p(\\theta)p(X|\\theta) $\".*"
   ]
  },
  {
   "attachments": {},
   "cell_type": "markdown",
   "metadata": {},
   "source": [
    "#### Cálculo\n",
    "\n",
    "De acuerdo a [AcademiaLab](https://academia-lab.com/enciclopedia/probabilidad-a-posteriori/) la distribución de probabilidad postertior de una variable aleatorioa dado el valor de otra puede calcularse con el teorema de Bayes. Esto es, multiplicando la distribución de probabilidad anterior por la función de probabilidad y luego dividiéndola por la constante de normalización, de la siguiente manera:\n",
    "\n",
    "$$\n",
    " f_{X|Y=y}(x)= \\frac{f_X(x) \\mathcal{L}_{X|Y=y}(x)}{\\int^\\infty_{-\\infty}f_X(u)\\mathcal{L}_{X|Y=y}(u)du} \n",
    "$$\n",
    "\n",
    "obteniéndose así la función de densidad de probabilidad posterior para una variable aleatoria $X$ dados los datos $Y=y$, en donde:\n",
    "- $f_X(x)$ es la densidad previa de $X$\n",
    "- $\\mathcal{L}_{X|Y=y}(x) = f_{Y|X=x}(y)$ es la función de verosimilitud en función de $x$\n",
    "- $\\int^\\infty_{-\\infty}f_X(u)\\mathcal{L}_{X|Y=y}(u)du$ es la constante de normalización\n",
    "- $f_{X|Y=y}(x)$ es la densidad posterior de $X$ dados los datos $Y=y$"
   ]
  },
  {
   "attachments": {},
   "cell_type": "markdown",
   "metadata": {},
   "source": [
    "#### Cálculo"
   ]
  },
  {
   "cell_type": "code",
   "execution_count": 4,
   "metadata": {},
   "outputs": [
    {
     "name": "stdout",
     "output_type": "stream",
     "text": [
      "Teniendo como referencia un pulso de:  52.4743114201176\n",
      "Probabilidad a posteriori verdad [%]     92.226572\n",
      "Probabilidad a posteriori mentira [%]     7.773428\n",
      "dtype: float64\n"
     ]
    }
   ],
   "source": [
    "liePrior = np.random.uniform(low=0,high=0.5)\n",
    "truePrior = 1-liePrior\n",
    "pulse = np.random.uniform(low=20,high=90)\n",
    "print('Teniendo como referencia un pulso de: ',pulse)\n",
    "lieProb = np.exp(-alpha*pulse)*alpha\n",
    "truthProb = np.exp(-beta*pulse)*beta\n",
    "postTrue = (truthProb*truePrior)/(truthProb*truePrior+lieProb*liePrior)\n",
    "postLie = 1-postTrue\n",
    "seriesP = 'Probabilidad a posteriori verdad [%]', 'Probabilidad a posteriori mentira [%]'\n",
    "dataP = (postTrue*100), (postLie*100)\n",
    "postProbs = pd.Series(dataP,seriesP)\n",
    "print(postProbs)"
   ]
  },
  {
   "attachments": {},
   "cell_type": "markdown",
   "metadata": {},
   "source": [
    "## Enlaces útiles\n",
    "\n",
    "A continuación, se adjuntan algunos enlaces útiles que fueron consultados durante el desarrollo.\n",
    "\n",
    "- [A Guide to Bayesian Statistics in Python for Beginners](https://analyticsindiamag.com/a-guide-to-bayesian-statistics-in-python-for-beginners/#:~:text=In%20the%20formula%20of%20the%20Bayes%20theorem%2C%20P(B%7C,present%20and%20taken%20into%20account.))\n",
    "\n",
    "- [How to use Bayesian Inference for predictions in Python](https://towardsdatascience.com/how-to-use-bayesian-inference-for-predictions-in-python-4de5d0bc84f3)\n",
    "\n",
    "- [Teorema de Bayes en Machine Learning, breve intoducción](https://sitiobigdata.com/2019/12/24/teorema-de-bayes-en-machine-learning/)\n",
    "\n",
    "- [Implementar el teorema de Bayes en Python (con código)](https://programmerclick.com/article/80981456441/)\n",
    "\n",
    "- [statistics — Funciones de estadística matemática](https://docs.python.org/es/3.9/library/statistics.html)"
   ]
  }
 ],
 "metadata": {
  "kernelspec": {
   "display_name": "Python 3",
   "language": "python",
   "name": "python3"
  },
  "language_info": {
   "codemirror_mode": {
    "name": "ipython",
    "version": 3
   },
   "file_extension": ".py",
   "mimetype": "text/x-python",
   "name": "python",
   "nbconvert_exporter": "python",
   "pygments_lexer": "ipython3",
   "version": "3.9.4"
  },
  "orig_nbformat": 4
 },
 "nbformat": 4,
 "nbformat_minor": 2
}
